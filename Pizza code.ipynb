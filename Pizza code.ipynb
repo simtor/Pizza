{
 "cells": [
  {
   "cell_type": "code",
   "execution_count": 1,
   "metadata": {},
   "outputs": [
    {
     "name": "stdout",
     "output_type": "stream",
     "text": [
      "Please enter your nameOliver\n",
      "Oliver is in the database\n",
      "Number of pizza sold10000\n",
      "Type of pizza soldMargarita\n",
      "pizzatype\n",
      "MargaritaPizza is currently sold by the shop\n",
      "Oliver You are in the system\n",
      "79900.0\n",
      "{'Nilay': 0, 'Josh': 0, 'Oliver': 7.99, 'Waldron': 0, 'Up': 0, 'Goatsan': 0, 'Stifan': 0, 'Ellie': 0, 'Independence': 0, 'Catalin': 0}\n",
      "{'Nilay': 0, 'Josh': 0, 'Oliver': 10000, 'Waldron': 0, 'Up': 0, 'Goatsan': 0, 'Stifan': 0, 'Ellie': 0, 'Independence': 0, 'Catalin': 0}\n"
     ]
    }
   ],
   "source": [
    "employeeSalesDict = {\"Oliver\":0, \"Nilay\":0, \"Goatsan\":0, \"Stifan\":0, \"Ellie\":0, \"Up\":0, \"Independence\":0, \"Josh\":0, \"Waldron\":0,\n",
    "                    \"Catalin\":0}\n",
    "amountofpizzasold ={\"Oliver\":0, \"Nilay\":0, \"Goatsan\":0, \"Stifan\":0, \"Ellie\":0, \"Up\":0, \"Independence\":0, \"Josh\":0, \"Waldron\":0,\n",
    "                    \"Catalin\":0}\n",
    "pizzaPriceDict={\"Margarita\":7.99, \"Marinara\":8.99, \"Pepperoni\":9.99, \"Veggie\":9.99, \"Chicken\":7.99,\n",
    "                \"Hawaiian\":8.99, \"Four Cheese\":9.99}\n",
    "\n",
    "employeename = None\n",
    "while employeename == None:\n",
    "    name = input(\"Please enter your name\")\n",
    "    if name in employeeSalesDict:\n",
    "        print(name + \" is in the database\")\n",
    "        employeename = name\n",
    "    else:\n",
    "        print(name)\n",
    "        print(\"This person is not in the database, try again\")\n",
    "        \n",
    "numberofPizzaSold = int(input(\"Number of pizza sold\"))\n",
    "pizzaType = input(\"Type of pizza sold\")\n",
    "print(\"pizzatype\")\n",
    "\n",
    "if pizzaType in pizzaPriceDict:\n",
    "    print(pizzaType + \"Pizza is currently sold by the shop\")\n",
    "else:\n",
    "    print(pizzaType + \"Pizza not sold\")\n",
    "    \n",
    "if employeename in employeeSalesDict:\n",
    "    print(employeename + \" You are in the system\")\n",
    "else:\n",
    "    print(employeename + \" your name is not in the list\")\n",
    "    \n",
    "if pizzaType in pizzaPriceDict:\n",
    "    price = pizzaPriceDict[pizzaType]\n",
    "    print(price*numberofPizzaSold)\n",
    "else:\n",
    "    print(\"we don't serve this sorry\")\n",
    "    \n",
    "employeeSalesDict[employeename] += pizzaPriceDict[pizzaType]\n",
    "print(employeeSalesDict)\n",
    "\n",
    "amountofpizzasold[employeename] += numberofPizzaSold\n",
    "print(amountofpizzasold)\n",
    "\n",
    "\n",
    "\n",
    "\n",
    "    \n",
    "\n",
    "    \n",
    "    \n",
    "\n",
    "    \n",
    "    \n",
    "       \n",
    "       \n",
    "       \n",
    "    \n",
    "\n",
    "\n",
    "\n"
   ]
  },
  {
   "cell_type": "markdown",
   "metadata": {},
   "source": [
    "###### "
   ]
  },
  {
   "cell_type": "code",
   "execution_count": null,
   "metadata": {},
   "outputs": [],
   "source": []
  }
 ],
 "metadata": {
  "kernelspec": {
   "display_name": "Python 3",
   "language": "python",
   "name": "python3"
  },
  "language_info": {
   "codemirror_mode": {
    "name": "ipython",
    "version": 3
   },
   "file_extension": ".py",
   "mimetype": "text/x-python",
   "name": "python",
   "nbconvert_exporter": "python",
   "pygments_lexer": "ipython3",
   "version": "3.5.2"
  }
 },
 "nbformat": 4,
 "nbformat_minor": 2
}
